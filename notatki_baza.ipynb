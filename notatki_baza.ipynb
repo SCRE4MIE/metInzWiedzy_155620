{
 "cells": [
  {
   "cell_type": "code",
   "execution_count": 61,
   "metadata": {
    "collapsed": true
   },
   "outputs": [],
   "source": [
    "import numpy as np\n",
    "import math\n",
    "np.set_printoptions(suppress=True)"
   ]
  },
  {
   "cell_type": "code",
   "execution_count": 62,
   "outputs": [],
   "source": [
    "macierz_T = np.array([\n",
    "    [1,1,1,1,1,1,1,1],\n",
    "    [1,1,1,1,-1,-1,-1,-1],\n",
    "    [1,1,-1,-1,0,0,0,0],\n",
    "    [0,0,0,0,1,1,-1,-1],\n",
    "    [1,-1,0,0,0,0,0,0],\n",
    "    [0,0,1,-1,0,0,0,0],\n",
    "    [0,0,0,0,1,-1,0,0],\n",
    "    [0,0,0,0,0,0,1,-1],\n",
    "])"
   ],
   "metadata": {
    "collapsed": false,
    "pycharm": {
     "name": "#%%\n"
    }
   }
  },
  {
   "cell_type": "code",
   "execution_count": 63,
   "outputs": [
    {
     "data": {
      "text/plain": "array([[ 1,  1,  1,  0,  1,  0,  0,  0],\n       [ 1,  1,  1,  0, -1,  0,  0,  0],\n       [ 1,  1, -1,  0,  0,  1,  0,  0],\n       [ 1,  1, -1,  0,  0, -1,  0,  0],\n       [ 1, -1,  0,  1,  0,  0,  1,  0],\n       [ 1, -1,  0,  1,  0,  0, -1,  0],\n       [ 1, -1,  0, -1,  0,  0,  0,  1],\n       [ 1, -1,  0, -1,  0,  0,  0, -1]])"
     },
     "execution_count": 63,
     "metadata": {},
     "output_type": "execute_result"
    }
   ],
   "source": [
    "macierz = np.transpose(macierz_T)\n",
    "macierz"
   ],
   "metadata": {
    "collapsed": false,
    "pycharm": {
     "name": "#%%\n"
    }
   }
  },
  {
   "cell_type": "code",
   "source": [
    "macierz_T @ macierz"
   ],
   "metadata": {
    "collapsed": false,
    "pycharm": {
     "name": "#%%\n"
    }
   },
   "execution_count": 64,
   "outputs": [
    {
     "data": {
      "text/plain": "array([[8, 0, 0, 0, 0, 0, 0, 0],\n       [0, 8, 0, 0, 0, 0, 0, 0],\n       [0, 0, 4, 0, 0, 0, 0, 0],\n       [0, 0, 0, 4, 0, 0, 0, 0],\n       [0, 0, 0, 0, 2, 0, 0, 0],\n       [0, 0, 0, 0, 0, 2, 0, 0],\n       [0, 0, 0, 0, 0, 0, 2, 0],\n       [0, 0, 0, 0, 0, 0, 0, 2]])"
     },
     "execution_count": 64,
     "metadata": {},
     "output_type": "execute_result"
    }
   ]
  },
  {
   "cell_type": "markdown",
   "source": [
    "#### jeżeli macierz transponowana @ macierz = diagonalana to znaczy, że wektory są ortagonalne ( prostopadłe)"
   ],
   "metadata": {
    "collapsed": false,
    "pycharm": {
     "name": "#%% md\n"
    }
   }
  },
  {
   "cell_type": "code",
   "execution_count": 67,
   "outputs": [
    {
     "name": "stdout",
     "output_type": "stream",
     "text": [
      "2.8284271247461903\n",
      "2.8284271247461903\n",
      "2.0\n",
      "2.0\n",
      "1.4142135623730951\n",
      "1.4142135623730951\n",
      "1.4142135623730951\n",
      "1.4142135623730951\n"
     ]
    },
    {
     "data": {
      "text/plain": "array([[ 0.35355339,  0.35355339,  0.5       ,  0.        ,  0.70710678,\n         0.        ,  0.        ,  0.        ],\n       [ 0.35355339,  0.35355339,  0.5       ,  0.        , -0.70710678,\n         0.        ,  0.        ,  0.        ],\n       [ 0.35355339,  0.35355339, -0.5       ,  0.        ,  0.        ,\n         0.70710678,  0.        ,  0.        ],\n       [ 0.35355339,  0.35355339, -0.5       ,  0.        ,  0.        ,\n        -0.70710678,  0.        ,  0.        ],\n       [ 0.35355339, -0.35355339,  0.        ,  0.5       ,  0.        ,\n         0.        ,  0.70710678,  0.        ],\n       [ 0.35355339, -0.35355339,  0.        ,  0.5       ,  0.        ,\n         0.        , -0.70710678,  0.        ],\n       [ 0.35355339, -0.35355339,  0.        , -0.5       ,  0.        ,\n         0.        ,  0.        ,  0.70710678],\n       [ 0.35355339, -0.35355339,  0.        , -0.5       ,  0.        ,\n         0.        ,  0.        , -0.70710678]])"
     },
     "execution_count": 67,
     "metadata": {},
     "output_type": "execute_result"
    }
   ],
   "source": [
    "# dlugosc = pierwiestek iloczyny skalarnego wkeotra przez siebie\n",
    "\n",
    "\n",
    "macierz_jed = []\n",
    "for wektor in np.transpose(macierz):\n",
    "    dl = math.sqrt(np.dot(wektor, wektor))\n",
    "    print(dl)\n",
    "    wektor = wektor / dl\n",
    "    macierz_jed.append(wektor)\n",
    "\n",
    "macierz_jed = np.array(np.transpose(macierz_jed))\n",
    "macierz_jed"
   ],
   "metadata": {
    "collapsed": false,
    "pycharm": {
     "name": "#%%\n"
    }
   }
  },
  {
   "cell_type": "code",
   "execution_count": 71,
   "outputs": [
    {
     "data": {
      "text/plain": "array([[ 1., -0.,  0.,  0.,  0.,  0.,  0.,  0.],\n       [-0.,  1.,  0.,  0.,  0.,  0.,  0.,  0.],\n       [ 0.,  0.,  1.,  0.,  0.,  0.,  0.,  0.],\n       [ 0.,  0.,  0.,  1.,  0.,  0.,  0.,  0.],\n       [ 0.,  0.,  0.,  0.,  1.,  0.,  0.,  0.],\n       [ 0.,  0.,  0.,  0.,  0.,  1.,  0.,  0.],\n       [ 0.,  0.,  0.,  0.,  0.,  0.,  1.,  0.],\n       [ 0.,  0.,  0.,  0.,  0.,  0.,  0.,  1.]])"
     },
     "execution_count": 71,
     "metadata": {},
     "output_type": "execute_result"
    }
   ],
   "source": [
    "\n",
    "np.round(np.transpose(macierz_jed) @ macierz_jed, decimals=1)"
   ],
   "metadata": {
    "collapsed": false,
    "pycharm": {
     "name": "#%%\n"
    }
   }
  },
  {
   "cell_type": "code",
   "source": [
    "x = np.array([8, 6 ,2 ,3 ,4 ,6, 6, 5])\n",
    "x"
   ],
   "metadata": {
    "collapsed": false,
    "pycharm": {
     "name": "#%%\n"
    }
   },
   "execution_count": 77,
   "outputs": [
    {
     "data": {
      "text/plain": "array([8, 6, 2, 3, 4, 6, 6, 5])"
     },
     "execution_count": 77,
     "metadata": {},
     "output_type": "execute_result"
    }
   ]
  },
  {
   "cell_type": "code",
   "execution_count": 80,
   "outputs": [
    {
     "data": {
      "text/plain": "array([14.14213562, -0.70710678,  4.5       , -0.5       ,  1.41421356,\n       -0.70710678, -1.41421356,  0.70710678])"
     },
     "execution_count": 80,
     "metadata": {},
     "output_type": "execute_result"
    }
   ],
   "source": [
    "x_new = np.transpose(macierz_jed) @ x\n",
    "x_new"
   ],
   "metadata": {
    "collapsed": false,
    "pycharm": {
     "name": "#%%\n"
    }
   }
  },
  {
   "cell_type": "code",
   "execution_count": null,
   "outputs": [],
   "source": [],
   "metadata": {
    "collapsed": false,
    "pycharm": {
     "name": "#%%\n"
    }
   }
  }
 ],
 "metadata": {
  "kernelspec": {
   "display_name": "Python 3",
   "language": "python",
   "name": "python3"
  },
  "language_info": {
   "codemirror_mode": {
    "name": "ipython",
    "version": 2
   },
   "file_extension": ".py",
   "mimetype": "text/x-python",
   "name": "python",
   "nbconvert_exporter": "python",
   "pygments_lexer": "ipython2",
   "version": "2.7.6"
  }
 },
 "nbformat": 4,
 "nbformat_minor": 0
}